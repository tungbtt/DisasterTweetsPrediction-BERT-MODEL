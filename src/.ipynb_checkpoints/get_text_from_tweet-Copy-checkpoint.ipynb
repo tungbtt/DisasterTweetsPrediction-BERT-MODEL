{
 "cells": [
  {
   "cell_type": "code",
   "execution_count": 58,
   "metadata": {},
   "outputs": [],
   "source": [
    "from selenium import webdriver\n",
    "from time import sleep\n",
    "from webdriver_manager.chrome import ChromeDriverManager\n",
    "from selenium.webdriver.chrome.options import Options\n",
    "from selenium.webdriver.common.by import By\n",
    "from selenium.webdriver.support.ui import WebDriverWait\n",
    "from selenium.webdriver.support import expected_conditions as EC"
   ]
  },
  {
   "cell_type": "code",
   "execution_count": 59,
   "metadata": {},
   "outputs": [],
   "source": [
    "# Tạo tùy chọn Chrome\n",
    "chrome_options = Options()\n",
    "#chrome_options.add_argument(\"--headless\")  # Chạy ở chế độ ẩn"
   ]
  },
  {
   "cell_type": "code",
   "execution_count": 60,
   "metadata": {},
   "outputs": [
    {
     "name": "stderr",
     "output_type": "stream",
     "text": [
      "C:\\Users\\Acer\\AppData\\Local\\Temp\\ipykernel_3524\\1656296548.py:2: DeprecationWarning: executable_path has been deprecated, please pass in a Service object\n",
      "  driver = webdriver.Chrome(ChromeDriverManager().install(), options=chrome_options)\n"
     ]
    }
   ],
   "source": [
    "# cài đặt và khởi động Chrome\n",
    "driver = webdriver.Chrome(ChromeDriverManager().install(), options=chrome_options)"
   ]
  },
  {
   "cell_type": "code",
   "execution_count": 61,
   "metadata": {},
   "outputs": [],
   "source": [
    "def login_twitter_account(driver, username, password):\n",
    "    # mở page twitter\n",
    "    driver.get(\"https://twitter.com/\")\n",
    "\n",
    "    # Đặt thời gian chờ tối đa là 20 giây\n",
    "    wait = WebDriverWait(driver, 20)\n",
    "\n",
    "    # Chờ cho phần tử \"Phone, email, or username\" hiển thị\n",
    "    element_username = wait.until(\n",
    "        EC.visibility_of_element_located((\n",
    "            By.XPATH, \n",
    "            '/html/body/div/div/div/div[1]/div/div/div/div/div/div/div[2]/div[2]/div/div/div[2]/div[2]/div/div/div/div[5]/label'\n",
    "        ))\n",
    "    )\n",
    "\n",
    "    # nhập username vào ô \"Phone, email, or username\"\n",
    "    element_username.send_keys(username)\n",
    "\n",
    "    # click nút \"Next\"\n",
    "    driver.find_element(\n",
    "        By.XPATH, \n",
    "        '/html/body/div[1]/div/div/div[1]/div/div/div/div/div/div/div[2]/div[2]/div/div/div[2]/div[2]/div/div/div/div[6]/div'\n",
    "    ).click()\n",
    "\n",
    "    # Chờ cho phần tử \"password\" hiển thị\n",
    "    element_password = wait.until(\n",
    "        EC.visibility_of_element_located((\n",
    "            By.XPATH, \n",
    "            '/html/body/div/div/div/div[1]/div/div/div/div/div/div/div[2]/div[2]/div/div/div[2]/div[2]/div[1]/div/div/div[2]/div/label'\n",
    "        ))\n",
    "    )\n",
    "\n",
    "    # nhập password vào ô \"password\"\n",
    "    element_password.send_keys(password)\n",
    "\n",
    "    # click nút \"Log in\"\n",
    "    driver.find_element(\n",
    "        By.XPATH, \n",
    "        '/html/body/div/div/div/div[1]/div/div/div/div/div/div/div[2]/div[2]/div/div/div[2]/div[2]/div[2]/div/div[1]/div/div/div/div'\n",
    "    ).click()\n",
    "\n",
    "    # Chờ cho page loading trước khi thoát\n",
    "    wait.until(\n",
    "        EC.visibility_of_element_located((\n",
    "            By.XPATH, \n",
    "            '/html/body/div[1]/div/div/div[2]/main/div/div/div/div/div/div[3]'\n",
    "        ))\n",
    "    )"
   ]
  },
  {
   "cell_type": "code",
   "execution_count": 62,
   "metadata": {},
   "outputs": [],
   "source": [
    "def get_text_form_tweet(driver, link_tweet):\n",
    "    # mở page bằng link_tweet\n",
    "    driver.get(link_tweet)\n",
    "\n",
    "    # Đặt thời gian chờ tối đa là 20 giây\n",
    "    wait = WebDriverWait(driver, 20)\n",
    "\n",
    "    # Chờ cho phần tử \"text\" hiển thị\n",
    "    element_text = wait.until(\n",
    "        EC.visibility_of_element_located((\n",
    "            By.XPATH, \n",
    "            '/html/body/div[1]/div/div/div[2]/main/div/div/div/div/div/section/div/div/div/div/div[1]/div/div/article/div/div/div[3]/div[1]/div/div'\n",
    "        ))\n",
    "    )\n",
    "\n",
    "    # lấy text\n",
    "    text = element_text.text\n",
    "\n",
    "    return text"
   ]
  },
  {
   "cell_type": "code",
   "execution_count": 63,
   "metadata": {},
   "outputs": [
    {
     "data": {
      "text/plain": [
       "'Welcome home Dragon! \\n@SpaceX\\n’s Dragon cargo spacecraft splashed down off the coast of Florida today at 10:30am ET carrying 3,600 pounds of science and hardware back to Earth. This marks the completion of SpaceX’s 28th cargo resupply mission.'"
      ]
     },
     "execution_count": 63,
     "metadata": {},
     "output_type": "execute_result"
    }
   ],
   "source": [
    "username, password = \"0326130017\", \"project_ML_13072023\"\n",
    "link_tweet = \"https://twitter.com/Space_Station/status/1674789545697755137\"\n",
    "\n",
    "login_twitter_account(driver, username, password)\n",
    "get_text_form_tweet(driver, link_tweet)"
   ]
  },
  {
   "cell_type": "code",
   "execution_count": 64,
   "metadata": {},
   "outputs": [],
   "source": [
    "#driver.quit()"
   ]
  }
 ],
 "metadata": {
  "kernelspec": {
   "display_name": "base",
   "language": "python",
   "name": "python3"
  },
  "language_info": {
   "codemirror_mode": {
    "name": "ipython",
    "version": 3
   },
   "file_extension": ".py",
   "mimetype": "text/x-python",
   "name": "python",
   "nbconvert_exporter": "python",
   "pygments_lexer": "ipython3",
   "version": "3.9.12"
  },
  "orig_nbformat": 4
 },
 "nbformat": 4,
 "nbformat_minor": 2
}
