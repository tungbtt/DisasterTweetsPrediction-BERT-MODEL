{
 "cells": [
  {
   "cell_type": "code",
   "execution_count": 1,
   "id": "7aabe162-c852-47dd-957f-ecabae06c957",
   "metadata": {},
   "outputs": [
    {
     "name": "stdout",
     "output_type": "stream",
     "text": [
      "Requirement already satisfied: datasets in c:\\users\\tungb\\anaconda3\\lib\\site-packages (2.12.0)\n",
      "Requirement already satisfied: transformers in c:\\users\\tungb\\anaconda3\\lib\\site-packages (4.30.0)\n",
      "Requirement already satisfied: numpy>=1.17 in c:\\users\\tungb\\anaconda3\\lib\\site-packages (from datasets) (1.22.1)\n",
      "Requirement already satisfied: pyarrow>=8.0.0 in c:\\users\\tungb\\anaconda3\\lib\\site-packages (from datasets) (12.0.0)\n",
      "Requirement already satisfied: dill<0.3.7,>=0.3.0 in c:\\users\\tungb\\anaconda3\\lib\\site-packages (from datasets) (0.3.6)\n",
      "Requirement already satisfied: pandas in c:\\users\\tungb\\anaconda3\\lib\\site-packages (from datasets) (1.4.4)\n",
      "Requirement already satisfied: requests>=2.19.0 in c:\\users\\tungb\\anaconda3\\lib\\site-packages (from datasets) (2.28.1)\n",
      "Requirement already satisfied: tqdm>=4.62.1 in c:\\users\\tungb\\anaconda3\\lib\\site-packages (from datasets) (4.64.1)\n",
      "Requirement already satisfied: xxhash in c:\\users\\tungb\\anaconda3\\lib\\site-packages (from datasets) (3.2.0)\n",
      "Requirement already satisfied: multiprocess in c:\\users\\tungb\\anaconda3\\lib\\site-packages (from datasets) (0.70.14)\n",
      "Requirement already satisfied: fsspec[http]>=2021.11.1 in c:\\users\\tungb\\anaconda3\\lib\\site-packages (from datasets) (2022.7.1)\n",
      "Requirement already satisfied: aiohttp in c:\\users\\tungb\\anaconda3\\lib\\site-packages (from datasets) (3.8.4)\n",
      "Requirement already satisfied: huggingface-hub<1.0.0,>=0.11.0 in c:\\users\\tungb\\anaconda3\\lib\\site-packages (from datasets) (0.15.1)\n",
      "Requirement already satisfied: packaging in c:\\users\\tungb\\anaconda3\\lib\\site-packages (from datasets) (21.3)\n",
      "Requirement already satisfied: responses<0.19 in c:\\users\\tungb\\anaconda3\\lib\\site-packages (from datasets) (0.18.0)\n",
      "Requirement already satisfied: pyyaml>=5.1 in c:\\users\\tungb\\anaconda3\\lib\\site-packages (from datasets) (6.0)\n",
      "Requirement already satisfied: filelock in c:\\users\\tungb\\anaconda3\\lib\\site-packages (from transformers) (3.6.0)\n",
      "Requirement already satisfied: regex!=2019.12.17 in c:\\users\\tungb\\anaconda3\\lib\\site-packages (from transformers) (2022.7.9)\n",
      "Requirement already satisfied: tokenizers!=0.11.3,<0.14,>=0.11.1 in c:\\users\\tungb\\anaconda3\\lib\\site-packages (from transformers) (0.13.3)\n",
      "Requirement already satisfied: safetensors>=0.3.1 in c:\\users\\tungb\\anaconda3\\lib\\site-packages (from transformers) (0.3.1)\n",
      "Requirement already satisfied: typing-extensions>=3.7.4.3 in c:\\users\\tungb\\anaconda3\\lib\\site-packages (from huggingface-hub<1.0.0,>=0.11.0->datasets) (4.3.0)\n",
      "Requirement already satisfied: pyparsing!=3.0.5,>=2.0.2 in c:\\users\\tungb\\anaconda3\\lib\\site-packages (from packaging->datasets) (3.0.9)\n",
      "Requirement already satisfied: charset-normalizer<3,>=2 in c:\\users\\tungb\\anaconda3\\lib\\site-packages (from requests>=2.19.0->datasets) (2.0.4)\n",
      "Requirement already satisfied: idna<4,>=2.5 in c:\\users\\tungb\\anaconda3\\lib\\site-packages (from requests>=2.19.0->datasets) (3.3)\n",
      "Requirement already satisfied: urllib3<1.27,>=1.21.1 in c:\\users\\tungb\\anaconda3\\lib\\site-packages (from requests>=2.19.0->datasets) (1.26.11)\n",
      "Requirement already satisfied: certifi>=2017.4.17 in c:\\users\\tungb\\anaconda3\\lib\\site-packages (from requests>=2.19.0->datasets) (2023.5.7)\n",
      "Requirement already satisfied: colorama in c:\\users\\tungb\\anaconda3\\lib\\site-packages (from tqdm>=4.62.1->datasets) (0.4.5)\n",
      "Requirement already satisfied: attrs>=17.3.0 in c:\\users\\tungb\\anaconda3\\lib\\site-packages (from aiohttp->datasets) (21.4.0)\n",
      "Requirement already satisfied: multidict<7.0,>=4.5 in c:\\users\\tungb\\anaconda3\\lib\\site-packages (from aiohttp->datasets) (6.0.4)\n",
      "Requirement already satisfied: async-timeout<5.0,>=4.0.0a3 in c:\\users\\tungb\\anaconda3\\lib\\site-packages (from aiohttp->datasets) (4.0.2)\n",
      "Requirement already satisfied: yarl<2.0,>=1.0 in c:\\users\\tungb\\anaconda3\\lib\\site-packages (from aiohttp->datasets) (1.9.2)\n",
      "Requirement already satisfied: frozenlist>=1.1.1 in c:\\users\\tungb\\anaconda3\\lib\\site-packages (from aiohttp->datasets) (1.3.3)\n",
      "Requirement already satisfied: aiosignal>=1.1.2 in c:\\users\\tungb\\anaconda3\\lib\\site-packages (from aiohttp->datasets) (1.3.1)\n",
      "Requirement already satisfied: python-dateutil>=2.8.1 in c:\\users\\tungb\\anaconda3\\lib\\site-packages (from pandas->datasets) (2.8.2)\n",
      "Requirement already satisfied: pytz>=2020.1 in c:\\users\\tungb\\anaconda3\\lib\\site-packages (from pandas->datasets) (2022.1)\n",
      "Requirement already satisfied: six>=1.5 in c:\\users\\tungb\\anaconda3\\lib\\site-packages (from python-dateutil>=2.8.1->pandas->datasets) (1.16.0)\n"
     ]
    }
   ],
   "source": [
    "!pip install datasets transformers"
   ]
  },
  {
   "cell_type": "code",
   "execution_count": 2,
   "id": "18b1190c-6601-4ab6-912a-1295c29446d0",
   "metadata": {},
   "outputs": [
    {
     "name": "stderr",
     "output_type": "stream",
     "text": [
      "C:\\Users\\tungb\\anaconda3\\lib\\site-packages\\numpy\\_distributor_init.py:30: UserWarning: loaded more than 1 DLL from .libs:\n",
      "C:\\Users\\tungb\\anaconda3\\lib\\site-packages\\numpy\\.libs\\libopenblas.EL2C6PLE4ZYW3ECEVIV3OXXGRN2NRFM2.gfortran-win_amd64.dll\n",
      "C:\\Users\\tungb\\anaconda3\\lib\\site-packages\\numpy\\.libs\\libopenblas.FB5AE2TYXYH2IJRDKGDGQ3XBKLKTF43H.gfortran-win_amd64.dll\n",
      "  warnings.warn(\"loaded more than 1 DLL from .libs:\"\n",
      "<frozen importlib._bootstrap>:228: RuntimeWarning: scipy._lib.messagestream.MessageStream size changed, may indicate binary incompatibility. Expected 56 from C header, got 64 from PyObject\n"
     ]
    }
   ],
   "source": [
    "import pickle\n",
    "import re\n",
    "import pandas as pd\n",
    "import numpy as np\n",
    "from datasets import Dataset\n",
    "\n",
    "from transformers import BertTokenizer,BertForSequenceClassification,TrainingArguments,Trainer"
   ]
  },
  {
   "cell_type": "markdown",
   "id": "f84f0d0f-d82c-4419-b4c6-2c2054a7f915",
   "metadata": {},
   "source": [
    "Tiền xử lý dữ liệu"
   ]
  },
  {
   "cell_type": "code",
   "execution_count": 3,
   "id": "c5a33522-9972-419d-b40d-256977d4887e",
   "metadata": {},
   "outputs": [],
   "source": [
    "def preprocessing_data(text, tokenizer, max_word_length):\n",
    "    df=pd.DataFrame.from_dict({'text' : [text]})\n",
    "\n",
    "    df['text']=df['text'].apply(lambda x: x.lower())\n",
    "    df['text']=df['text'].apply(lambda x: x.replace(\"#\", \"\"))\n",
    "    df['text']=df['text'].apply(lambda x: re.sub(r'@\\w+\\s*', '', x))\n",
    "    df['text']=df['text'].apply(lambda x: re.sub(r'http\\S+|www\\S+', '', x))\n",
    "    df['text']=df['text'].apply(lambda x: re.sub(r'[^\\w\\s]', '', x))\n",
    "    df['text']=df['text'].apply(lambda x: re.sub(r'\\d+', '', x))\n",
    "    df['text']=df['text'].apply(lambda x : re.compile(r'<.*?>').sub(r'', x))\n",
    "\n",
    "    df['input_ids']=df['text'].apply(lambda x: tokenizer(x, max_length=max_word_length, padding='max_length')['input_ids'])\n",
    "    df=df[['input_ids']]\n",
    "\n",
    "    return Dataset.from_pandas(df)"
   ]
  },
  {
   "cell_type": "markdown",
   "id": "a83629b7-dca0-4910-9050-3d428bba7478",
   "metadata": {},
   "source": [
    "BERT Model"
   ]
  },
  {
   "cell_type": "code",
   "execution_count": 4,
   "id": "a1cb8a2b-3e5a-49c6-8466-48c53b3c94a4",
   "metadata": {},
   "outputs": [],
   "source": [
    "with open('bert_model.pkl', 'rb') as f:\n",
    "    data = pickle.load(f)\n",
    "\n",
    "tokenizer = data['tokenizer']\n",
    "max_word_length = data['max_word_length']\n",
    "model=data['model']\n",
    "#preprocessing_data=data['preprocessing_data']\n",
    "args=data['args']"
   ]
  },
  {
   "cell_type": "markdown",
   "id": "144530cc-5f6a-423c-955d-bf812b10803a",
   "metadata": {},
   "source": [
    "Input đầu vào:"
   ]
  },
  {
   "cell_type": "code",
   "execution_count": 5,
   "id": "faa81017-d938-439d-9ab0-b886d9774580",
   "metadata": {},
   "outputs": [],
   "source": [
    "text=\"Wrecked today got my hattrick ????\""
   ]
  },
  {
   "cell_type": "code",
   "execution_count": 6,
   "id": "4dacdb29-9733-4a6c-868a-df48c5cffa22",
   "metadata": {},
   "outputs": [],
   "source": [
    "output_ds=preprocessing_data(text,tokenizer,max_word_length)"
   ]
  },
  {
   "cell_type": "code",
   "execution_count": 7,
   "id": "3bea53c3-5bbd-4925-b46a-b3d1fab0c81f",
   "metadata": {},
   "outputs": [
    {
     "data": {
      "text/plain": [
       "Dataset({\n",
       "    features: ['input_ids'],\n",
       "    num_rows: 1\n",
       "})"
      ]
     },
     "execution_count": 7,
     "metadata": {},
     "output_type": "execute_result"
    }
   ],
   "source": [
    "output_ds"
   ]
  },
  {
   "cell_type": "code",
   "execution_count": 8,
   "id": "29814552-125a-47c4-a71e-c6741de2d75e",
   "metadata": {},
   "outputs": [],
   "source": [
    "trainer = Trainer(\n",
    "    model=model,\n",
    "    args=args, \n",
    ")"
   ]
  },
  {
   "cell_type": "code",
   "execution_count": 9,
   "id": "0b8f6c48-27df-49a6-8a2b-a43dc93fc464",
   "metadata": {},
   "outputs": [
    {
     "data": {
      "text/html": [],
      "text/plain": [
       "<IPython.core.display.HTML object>"
      ]
     },
     "metadata": {},
     "output_type": "display_data"
    }
   ],
   "source": [
    "outputs=trainer.predict(output_ds)"
   ]
  },
  {
   "cell_type": "markdown",
   "id": "8f82ca4c-5e2b-455f-8fee-6f2e73ccde0a",
   "metadata": {},
   "source": [
    "Kết quả dự đoán:"
   ]
  },
  {
   "cell_type": "code",
   "execution_count": 10,
   "id": "f486594d-53c3-4cde-8e57-66fa452c97c5",
   "metadata": {},
   "outputs": [
    {
     "data": {
      "text/plain": [
       "array([0], dtype=int64)"
      ]
     },
     "execution_count": 10,
     "metadata": {},
     "output_type": "execute_result"
    }
   ],
   "source": [
    "outputs.predictions.argmax(1)"
   ]
  }
 ],
 "metadata": {
  "kernelspec": {
   "display_name": "Python 3 (ipykernel)",
   "language": "python",
   "name": "python3"
  },
  "language_info": {
   "codemirror_mode": {
    "name": "ipython",
    "version": 3
   },
   "file_extension": ".py",
   "mimetype": "text/x-python",
   "name": "python",
   "nbconvert_exporter": "python",
   "pygments_lexer": "ipython3",
   "version": "3.9.13"
  }
 },
 "nbformat": 4,
 "nbformat_minor": 5
}
