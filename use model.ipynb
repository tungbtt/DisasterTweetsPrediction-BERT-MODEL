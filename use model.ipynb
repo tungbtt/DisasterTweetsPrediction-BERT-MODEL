{
 "cells": [
  {
   "cell_type": "markdown",
   "id": "a868f1a6",
   "metadata": {},
   "source": [
    "# **Sử dụng model từ file bert_model.pkl**"
   ]
  },
  {
   "cell_type": "code",
   "execution_count": 1,
   "id": "7aabe162-c852-47dd-957f-ecabae06c957",
   "metadata": {},
   "outputs": [],
   "source": [
    "#!pip install datasets transformers"
   ]
  },
  {
   "cell_type": "code",
   "execution_count": 2,
   "id": "18b1190c-6601-4ab6-912a-1295c29446d0",
   "metadata": {},
   "outputs": [
    {
     "name": "stderr",
     "output_type": "stream",
     "text": [
      "C:\\Users\\tungb\\anaconda3\\lib\\site-packages\\numpy\\_distributor_init.py:30: UserWarning: loaded more than 1 DLL from .libs:\n",
      "C:\\Users\\tungb\\anaconda3\\lib\\site-packages\\numpy\\.libs\\libopenblas.EL2C6PLE4ZYW3ECEVIV3OXXGRN2NRFM2.gfortran-win_amd64.dll\n",
      "C:\\Users\\tungb\\anaconda3\\lib\\site-packages\\numpy\\.libs\\libopenblas.FB5AE2TYXYH2IJRDKGDGQ3XBKLKTF43H.gfortran-win_amd64.dll\n",
      "  warnings.warn(\"loaded more than 1 DLL from .libs:\"\n",
      "<frozen importlib._bootstrap>:228: RuntimeWarning: scipy._lib.messagestream.MessageStream size changed, may indicate binary incompatibility. Expected 56 from C header, got 64 from PyObject\n"
     ]
    }
   ],
   "source": [
    "import pickle\n",
    "import re\n",
    "import pandas as pd\n",
    "import numpy as np\n",
    "from datasets import Dataset\n",
    "\n",
    "from transformers import BertTokenizer,BertForSequenceClassification,TrainingArguments,Trainer"
   ]
  },
  {
   "cell_type": "markdown",
   "id": "f84f0d0f-d82c-4419-b4c6-2c2054a7f915",
   "metadata": {},
   "source": [
    "Tiền xử lý dữ liệu"
   ]
  },
  {
   "cell_type": "code",
   "execution_count": 3,
   "id": "c5a33522-9972-419d-b40d-256977d4887e",
   "metadata": {},
   "outputs": [],
   "source": [
    "def preprocessing_data(text, tokenizer, max_word_length):\n",
    "    df=pd.DataFrame.from_dict({'text' : [text]})\n",
    "\n",
    "    df['text']=df['text'].apply(lambda x: x.lower())\n",
    "    df['text']=df['text'].apply(lambda x: x.replace(\"#\", \"\"))\n",
    "    df['text']=df['text'].apply(lambda x: re.sub(r'@\\w+\\s*', '', x))\n",
    "    df['text']=df['text'].apply(lambda x: re.sub(r'http\\S+|www\\S+', '', x))\n",
    "    df['text']=df['text'].apply(lambda x: re.sub(r'[^\\w\\s]', '', x))\n",
    "    df['text']=df['text'].apply(lambda x: re.sub(r'\\d+', '', x))\n",
    "    df['text']=df['text'].apply(lambda x : re.compile(r'<.*?>').sub(r'', x))\n",
    "\n",
    "    df['input_ids']=df['text'].apply(lambda x: tokenizer(x, max_length=max_word_length, padding='max_length')['input_ids'])\n",
    "    df=df[['input_ids']]\n",
    "\n",
    "    return Dataset.from_pandas(df)"
   ]
  },
  {
   "cell_type": "markdown",
   "id": "a83629b7-dca0-4910-9050-3d428bba7478",
   "metadata": {},
   "source": [
    "BERT Model"
   ]
  },
  {
   "cell_type": "code",
   "execution_count": 4,
   "id": "a1cb8a2b-3e5a-49c6-8466-48c53b3c94a4",
   "metadata": {},
   "outputs": [],
   "source": [
    "with open('BE/bert_model.pkl', 'rb') as f:\n",
    "    data = pickle.load(f)\n",
    "\n",
    "tokenizer = data['tokenizer']\n",
    "max_word_length = data['max_word_length']\n",
    "model=data['model']\n",
    "args=data['args']"
   ]
  },
  {
   "cell_type": "code",
   "execution_count": 5,
   "id": "05fcc7d0",
   "metadata": {},
   "outputs": [],
   "source": [
    "from BE.get_tweet import GetTweet\n",
    "get_tweet = GetTweet(\"0326130017\", r\"project_ML_13072023\")"
   ]
  },
  {
   "cell_type": "code",
   "execution_count": 6,
   "id": "29814552-125a-47c4-a71e-c6741de2d75e",
   "metadata": {},
   "outputs": [],
   "source": [
    "trainer = Trainer(\n",
    "    model=model,\n",
    "    args=args, \n",
    ")"
   ]
  },
  {
   "cell_type": "markdown",
   "id": "144530cc-5f6a-423c-955d-bf812b10803a",
   "metadata": {},
   "source": [
    "**Input đầu vào:**"
   ]
  },
  {
   "cell_type": "markdown",
   "id": "9e3ec483",
   "metadata": {},
   "source": [
    "Điền một link bài tweet bạn muốn kiểm tra:"
   ]
  },
  {
   "cell_type": "code",
   "execution_count": 7,
   "id": "e313fba8",
   "metadata": {},
   "outputs": [],
   "source": [
    "url=\"https://twitter.com/ameliya_ii/status/1675368182092271621?s=20\"\n",
    "#url=\"https://twitter.com/FORIUVS/status/1676569361841287169?s=20\""
   ]
  },
  {
   "cell_type": "code",
   "execution_count": 8,
   "id": "3b037e5b",
   "metadata": {},
   "outputs": [
    {
     "name": "stdout",
     "output_type": "stream",
     "text": [
      "The Titan submersible, which went missing with five passengers onboard earlier this week, was destroyed after suffering a \"catastrophic implosion\", authorities involved in the search for the vessel said on Thursday.\n",
      "#OceanGate #submarinemissing #Titan #implosion #TitanicRescue\n"
     ]
    }
   ],
   "source": [
    "text = get_tweet.get_text_form_tweet(url)\n",
    "print(text)"
   ]
  },
  {
   "cell_type": "code",
   "execution_count": 9,
   "id": "4dacdb29-9733-4a6c-868a-df48c5cffa22",
   "metadata": {},
   "outputs": [],
   "source": [
    "output_ds=preprocessing_data(text,tokenizer,max_word_length)"
   ]
  },
  {
   "cell_type": "code",
   "execution_count": 10,
   "id": "0b8f6c48-27df-49a6-8a2b-a43dc93fc464",
   "metadata": {},
   "outputs": [
    {
     "data": {
      "text/html": [],
      "text/plain": [
       "<IPython.core.display.HTML object>"
      ]
     },
     "metadata": {},
     "output_type": "display_data"
    }
   ],
   "source": [
    "outputs=trainer.predict(output_ds)"
   ]
  },
  {
   "cell_type": "markdown",
   "id": "8f82ca4c-5e2b-455f-8fee-6f2e73ccde0a",
   "metadata": {},
   "source": [
    "Kết quả dự đoán:"
   ]
  },
  {
   "cell_type": "code",
   "execution_count": 11,
   "id": "f486594d-53c3-4cde-8e57-66fa452c97c5",
   "metadata": {},
   "outputs": [
    {
     "name": "stdout",
     "output_type": "stream",
     "text": [
      "The Titan submersible, which went missing with five passengers onboard earlier this week, was destroyed after suffering a \"catastrophic implosion\", authorities involved in the search for the vessel said on Thursday.\n",
      "#OceanGate #submarinemissing #Titan #implosion #TitanicRescue\n",
      "\n",
      "Đây là tweet có nội dung liên quan đến thảm họa.\n"
     ]
    }
   ],
   "source": [
    "print(text)\n",
    "print()\n",
    "if outputs.predictions.argmax(1)[0]==1:\n",
    "    print(\"Đây là tweet có nội dung liên quan đến thảm họa.\")\n",
    "else:\n",
    "    print(\"Đây là tweet có nội dung không liên quan đến thảm họa.\")"
   ]
  }
 ],
 "metadata": {
  "kernelspec": {
   "display_name": "Python 3 (ipykernel)",
   "language": "python",
   "name": "python3"
  },
  "language_info": {
   "codemirror_mode": {
    "name": "ipython",
    "version": 3
   },
   "file_extension": ".py",
   "mimetype": "text/x-python",
   "name": "python",
   "nbconvert_exporter": "python",
   "pygments_lexer": "ipython3",
   "version": "3.9.13"
  }
 },
 "nbformat": 4,
 "nbformat_minor": 5
}
